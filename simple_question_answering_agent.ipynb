{
  "cells": [
    {
      "cell_type": "markdown",
      "metadata": {
        "id": "n5wYwnWhlGDu"
      },
      "source": [
        "# Simple Question-Answering Agent\n",
        "\n",
        "The Simple Question-Answer Agent, built with LangChain and the Ollama LLM model, is designed to comprehend user queries and deliver clear, concise, and relevant responses."
      ]
    },
    {
      "cell_type": "code",
      "execution_count": null,
      "metadata": {
        "collapsed": true,
        "id": "CNTuTwziUzaK"
      },
      "outputs": [],
      "source": [
        "!pip install colab-xterm  # Install colab-xterm\n",
        "%load_ext colabxterm   # Load the colab-xterm extension\n",
        "%xterm  # Opens an interactive terminal in the Colab notebook\n",
        "\n",
        "# commands to use ollama model in google colab\n",
        "# 1) curl -fsSL https://ollama.com/install.sh | sh # download ollama in google colab\n",
        "# 2) ollama serve & # start the ollama server\n",
        "# 3) ollama run llama3 # download ollama model"
      ]
    },
    {
      "cell_type": "markdown",
      "metadata": {
        "id": "R0rq3m__kNx6"
      },
      "source": [
        "**Download necessary libraries**"
      ]
    },
    {
      "cell_type": "code",
      "execution_count": null,
      "metadata": {
        "collapsed": true,
        "id": "xZDzdpYYVdiB"
      },
      "outputs": [],
      "source": [
        "!pip install langchain-ollama\n",
        "!pip install langchain"
      ]
    },
    {
      "cell_type": "markdown",
      "metadata": {
        "id": "xQVCfGlPjsIL"
      },
      "source": [
        "**Import necessary libraries**"
      ]
    },
    {
      "cell_type": "code",
      "execution_count": null,
      "metadata": {
        "id": "qJVTjAVfV4X1"
      },
      "outputs": [],
      "source": [
        "from langchain_ollama import OllamaLLM\n",
        "from langchain.prompts import PromptTemplate"
      ]
    },
    {
      "cell_type": "code",
      "execution_count": null,
      "metadata": {
        "id": "Qld55l9bV9du"
      },
      "outputs": [],
      "source": [
        "# initialize the language model\n",
        "llm = OllamaLLM(model=\"llama3\", temperature=0)\n",
        "\n",
        "# Define the prompt template\n",
        "template = \"\"\"\n",
        "You are a helpful AI assistant. Your task is to answer the user's question to the best of your ability.\n",
        "\n",
        "User's question: {question}\n",
        "\n",
        "Please provide a clear and concise answer:\n",
        "\"\"\"\n",
        "\n",
        "prompt = PromptTemplate(template= template, input_variables=[\"question\"])\n",
        "\n",
        "# Create the LLMChain\n",
        "chain = prompt | llm"
      ]
    },
    {
      "cell_type": "code",
      "execution_count": null,
      "metadata": {
        "id": "7gDdEPvyfSm9"
      },
      "outputs": [],
      "source": [
        "# Define the get_answer function\n",
        "def get_answer(question):\n",
        "    \"\"\"\n",
        "    Get an answer to the given question using the QA chain.\n",
        "    \"\"\"\n",
        "\n",
        "    input_variables = {\"question\": question}\n",
        "    response = chain.invoke(input_variables)\n",
        "    return response"
      ]
    },
    {
      "cell_type": "code",
      "execution_count": null,
      "metadata": {
        "colab": {
          "base_uri": "https://localhost:8080/"
        },
        "id": "Js_LNQ5jWq-6",
        "outputId": "4cbe07fa-a2eb-4e4d-f630-eb54590fd058"
      },
      "outputs": [
        {
          "name": "stdout",
          "output_type": "stream",
          "text": [
            "Please enter your question: what is capital of India?\n",
            "Question: what is capital of India?\n",
            "Answer: The capital of India is New Delhi.\n",
            "\n",
            "Please enter your question: what is different between python and java?\n",
            "Question: what is different between python and java?\n",
            "Answer: A great question!\n",
            "\n",
            "Python and Java are two popular programming languages that have many differences, despite both being object-oriented and widely used. Here are some key differences:\n",
            "\n",
            "**1. Syntax**: Python's syntax is more concise and readable, with a focus on whitespace and indentation to define code blocks. Java's syntax is more verbose, with a focus on semicolons and curly braces.\n",
            "\n",
            "**2. Typing**: Python is dynamically typed, meaning you don't need to declare variable types before using them. Java is statically typed, requiring explicit type declarations for variables.\n",
            "\n",
            "**3. Memory Management**: Python uses automatic memory management through its garbage collector, while Java uses a just-in-time (JIT) compiler and a garbage collector to manage memory.\n",
            "\n",
            "**4. Platform**: Python can run on multiple platforms, including Windows, macOS, and Linux, with minimal modifications. Java is primarily used for developing Android apps and running on the Java Virtual Machine (JVM), which requires a JVM to be installed on the target platform.\n",
            "\n",
            "**5. Object-Oriented Programming**: Both languages support object-oriented programming (OOP) concepts like classes, objects, inheritance, polymorphism, and encapsulation. However, Python's OOP model is more flexible and dynamic, while Java's OOP model is more rigid and formal.\n",
            "\n",
            "**6. Performance**: Java is generally considered faster than Python due to its JIT compiler and JVM. Python's performance can be improved with just-in-time compilation and caching libraries like NumPy and SciPy.\n",
            "\n",
            "**7. Libraries and Frameworks**: Both languages have extensive libraries and frameworks for various tasks, such as web development (e.g., Django in Python, Spring in Java), data analysis (e.g., Pandas in Python, Weka in Java), and machine learning (e.g., scikit-learn in Python, Weka in Java).\n",
            "\n",
            "**8. Use Cases**: Python is often used for:\n",
            "\t* Data science and analytics\n",
            "\t* Web development with frameworks like Django and Flask\n",
            "\t* Automation and scripting\n",
            "\t* Scientific computing and research\n",
            "\n",
            "Java is often used for:\n",
            "\t* Android app development\n",
            "\t* Enterprise software development (e.g., banking, finance)\n",
            "\t* Desktop applications (e.g., IDEs, media players)\n",
            "\t* Web development with frameworks like Spring and Hibernate\n",
            "\n",
            "In summary, while both languages share some similarities, Python is known for its ease of use, flexibility, and rapid development capabilities, whereas Java is renowned for its platform independence, scalability, and performance.\n",
            "\n",
            "Please enter your question: exit\n",
            "Goodbye! I have a great day!\n"
          ]
        }
      ],
      "source": [
        "while True:\n",
        "    question = input(\"Please enter your question: \")\n",
        "\n",
        "    if question == \"exit\":\n",
        "        print(\"Goodbye! I have a great day!\")\n",
        "        break\n",
        "\n",
        "    else :\n",
        "        answer = get_answer(question)\n",
        "        print(f\"Question: {question}\")\n",
        "        print(f\"Answer: {answer}\\n\")\n",
        "\n"
      ]
    }
  ],
  "metadata": {
    "accelerator": "GPU",
    "colab": {
      "gpuType": "T4",
      "provenance": []
    },
    "kernelspec": {
      "display_name": "Python 3",
      "name": "python3"
    },
    "language_info": {
      "codemirror_mode": {
        "name": "ipython",
        "version": 3
      },
      "file_extension": ".py",
      "mimetype": "text/x-python",
      "name": "python",
      "nbconvert_exporter": "python",
      "pygments_lexer": "ipython3",
      "version": "3.12.2"
    }
  },
  "nbformat": 4,
  "nbformat_minor": 0
}
