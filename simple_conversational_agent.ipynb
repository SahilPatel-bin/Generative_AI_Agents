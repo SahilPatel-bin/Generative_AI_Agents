{
  "nbformat": 4,
  "nbformat_minor": 0,
  "metadata": {
    "colab": {
      "provenance": [],
      "gpuType": "T4"
    },
    "kernelspec": {
      "name": "python3",
      "display_name": "Python 3"
    },
    "language_info": {
      "name": "python"
    },
    "accelerator": "GPU"
  },
  "cells": [
    {
      "cell_type": "markdown",
      "source": [
        "# Simple Conversational Agent\n",
        "\n",
        "Simple Conversational Agent is an AI-powered chatbot built with LangChain and an LLM (Large Language Model). Designed for seamless, context-aware conversations, it leverages LangChain’s framework to enhance dialogue with memory and tool integration.\n"
      ],
      "metadata": {
        "id": "n5wYwnWhlGDu"
      }
    },
    {
      "cell_type": "code",
      "execution_count": null,
      "metadata": {
        "id": "KE2dMm2EILl_"
      },
      "outputs": [],
      "source": [
        "# Install colab-xterm\n",
        "!pip install colab-xterm\n",
        "# Load the colab-xterm extension\n",
        "%load_ext colabxterm\n",
        "# Opens an interactive terminal in the Colab notebook\n",
        "%xterm\n",
        "\n",
        "# commands to use ollama model in google colab\n",
        "# 1) curl -fsSL https://ollama.com/install.sh | sh # download ollama in google colab\n",
        "# 2) ollama serve & # start the ollama server\n",
        "# 3) ollama run llama3 # download ollama model"
      ]
    },
    {
      "cell_type": "markdown",
      "source": [
        "**Download necessary libraries**"
      ],
      "metadata": {
        "id": "R0rq3m__kNx6"
      }
    },
    {
      "cell_type": "code",
      "source": [
        "!pip install langchain_community\n",
        "!pip install langchain_ollama"
      ],
      "metadata": {
        "collapsed": true,
        "id": "2WG6sgOvLmrg"
      },
      "execution_count": null,
      "outputs": []
    },
    {
      "cell_type": "markdown",
      "source": [
        "**Import necessary libraries**"
      ],
      "metadata": {
        "id": "xQVCfGlPjsIL"
      }
    },
    {
      "cell_type": "code",
      "source": [
        "from langchain_core.runnables.history import RunnableWithMessageHistory\n",
        "from langchain_community.chat_message_histories import ChatMessageHistory\n",
        "from langchain_core.prompts import ChatPromptTemplate, MessagesPlaceholder\n",
        "from langchain_ollama import OllamaLLM"
      ],
      "metadata": {
        "id": "AM2Vk5wfL4aU"
      },
      "execution_count": 19,
      "outputs": []
    },
    {
      "cell_type": "code",
      "source": [
        "#Create a simple in-memory store for chat histories\n",
        "store = {}\n",
        "\n",
        "def get_chat_history(session_id: str):\n",
        "    if session_id not in store:\n",
        "        store[session_id] = ChatMessageHistory()\n",
        "    return store[session_id]"
      ],
      "metadata": {
        "id": "NpjBljXEMVi4"
      },
      "execution_count": 30,
      "outputs": []
    },
    {
      "cell_type": "code",
      "source": [
        "# initialize the language model\n",
        "llm = OllamaLLM(model=\"llama3\", temperature=0)\n",
        "\n",
        "# Define the prompt\n",
        "prompt = ChatPromptTemplate.from_messages([\n",
        "    (\"system\", \"You are a helpful AI assistant.\"),\n",
        "    MessagesPlaceholder(variable_name=\"history\"),\n",
        "    (\"human\", \"{input}\")\n",
        "])\n",
        "\n",
        "# Create the LLMChain\n",
        "chain = prompt | llm"
      ],
      "metadata": {
        "id": "M3haLAcDM0bO"
      },
      "execution_count": 22,
      "outputs": []
    },
    {
      "cell_type": "code",
      "source": [
        "# Chain with message history\n",
        "chain_with_history = RunnableWithMessageHistory(\n",
        "    chain,\n",
        "    get_chat_history,\n",
        "    input_messages_key=\"input\",\n",
        "    history_messages_key=\"history\"\n",
        ")"
      ],
      "metadata": {
        "id": "zchJIM44NXGx"
      },
      "execution_count": 23,
      "outputs": []
    },
    {
      "cell_type": "code",
      "source": [
        "session_id = \"1\"\n",
        "\n",
        "while True:\n",
        "    question = input(\"Please enter your question: \")\n",
        "\n",
        "    if question == \"exit\":\n",
        "        print(\"Goodbye! I have a great day!\")\n",
        "        break\n",
        "\n",
        "    else :\n",
        "        response = chain_with_history.invoke(\n",
        "        {\"input\": question},\n",
        "        config={\"configurable\": {\"session_id\": session_id}})\n",
        "\n",
        "        print(f\"Question: {question}\")\n",
        "        print(f\"Response: {response}\\n\")\n",
        "\n",
        ""
      ],
      "metadata": {
        "colab": {
          "base_uri": "https://localhost:8080/"
        },
        "id": "N53a3JdFNmZl",
        "outputId": "86dfb53f-72cb-4370-822c-9e6627b8a9c7"
      },
      "execution_count": 31,
      "outputs": [
        {
          "output_type": "stream",
          "name": "stdout",
          "text": [
            "Please enter your question: Hello! How are you?\n",
            "Question: Hello! How are you?\n",
            "Response: Hello there! I'm doing great, thanks for asking! It's always exciting to start a new conversation and help with any questions or tasks you may have. What brings you here today? Do you need assistance with something specific, or just looking for some general chat? I'm all ears (or rather, all text)!\n",
            "\n",
            "Please enter your question: what is capital of india?\n",
            "Question: what is capital of india?\n",
            "Response: The capital of India is New Delhi! It's a vibrant city with a rich history and culture. Did you know that New Delhi was declared the capital of India in 1927, replacing Calcutta as the capital? Today, it's a hub for politics, business, education, and tourism.\n",
            "\n",
            "Would you like to know more about New Delhi or is there something else I can help you with?\n",
            "\n",
            "Please enter your question: What was my previous message?\n",
            "Question: What was my previous message?\n",
            "Response: Your previous message was \"what is capital of india?\"\n",
            "\n",
            "Please enter your question: exit\n",
            "Goodbye! I have a great day!\n"
          ]
        }
      ]
    },
    {
      "cell_type": "markdown",
      "source": [
        "**Print the conversation history**"
      ],
      "metadata": {
        "id": "CHkefM_kOs_h"
      }
    },
    {
      "cell_type": "code",
      "source": [
        "print(\"\\nConversation History:\")\n",
        "\n",
        "for message in store[session_id].messages:\n",
        "    print(f\"{message.type} : {message.content}\\n\")\n",
        "\n"
      ],
      "metadata": {
        "colab": {
          "base_uri": "https://localhost:8080/"
        },
        "id": "MP3gzbboOn8K",
        "outputId": "8c23d53a-adb9-455f-dbba-26fcc15894aa"
      },
      "execution_count": 32,
      "outputs": [
        {
          "output_type": "stream",
          "name": "stdout",
          "text": [
            "\n",
            "Conversation History:\n",
            "human : Hello! How are you?\n",
            "\n",
            "ai : Hello there! I'm doing great, thanks for asking! It's always exciting to start a new conversation and help with any questions or tasks you may have. What brings you here today? Do you need assistance with something specific, or just looking for some general chat? I'm all ears (or rather, all text)!\n",
            "\n",
            "human : what is capital of india?\n",
            "\n",
            "ai : The capital of India is New Delhi! It's a vibrant city with a rich history and culture. Did you know that New Delhi was declared the capital of India in 1927, replacing Calcutta as the capital? Today, it's a hub for politics, business, education, and tourism.\n",
            "\n",
            "Would you like to know more about New Delhi or is there something else I can help you with?\n",
            "\n",
            "human : What was my previous message?\n",
            "\n",
            "ai : Your previous message was \"what is capital of india?\"\n",
            "\n"
          ]
        }
      ]
    }
  ]
}