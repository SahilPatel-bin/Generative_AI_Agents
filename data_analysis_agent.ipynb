{
  "cells": [
    {
      "cell_type": "markdown",
      "metadata": {
        "id": "-mt1Hhslka6g"
      },
      "source": [
        "# Data Analysis Agent\n",
        "\n",
        "This agent is an AI-powered data analysis tool that interprets and answers questions about a dataset using natural language. It combines language models with data manipulation tools to enable intuitive data exploration.\n"
      ]
    },
    {
      "cell_type": "markdown",
      "metadata": {
        "id": "R0rq3m__kNx6"
      },
      "source": [
        "**Download necessary libraries**"
      ]
    },
    {
      "cell_type": "code",
      "execution_count": null,
      "metadata": {
        "id": "0xFS1NkegS97"
      },
      "outputs": [],
      "source": [
        "!pip install pandas\n",
        "!pip install numpy\n",
        "!pip install langchain\n",
        "!pip install langchain-experimental\n",
        "!pip install langchain_groq\n",
        "!pip install python-dotenv"
      ]
    },
    {
      "cell_type": "markdown",
      "metadata": {
        "id": "xQVCfGlPjsIL"
      },
      "source": [
        "**Import necessary libraries**"
      ]
    },
    {
      "cell_type": "code",
      "execution_count": 3,
      "metadata": {
        "id": "uaZHxb9cgiTW"
      },
      "outputs": [],
      "source": [
        "import pandas as pd\n",
        "import numpy as np\n",
        "from datetime import datetime, timedelta\n",
        "from langchain.agents import AgentType\n",
        "from langchain_experimental.agents.agent_toolkits import create_pandas_dataframe_agent\n",
        "from langchain_groq import ChatGroq\n",
        "from dotenv import load_dotenv\n",
        "import os"
      ]
    },
    {
      "cell_type": "markdown",
      "metadata": {
        "id": "WHr54vIjhJXL"
      },
      "source": [
        "**Generate Sample Data**"
      ]
    },
    {
      "cell_type": "code",
      "execution_count": 4,
      "metadata": {
        "colab": {
          "base_uri": "https://localhost:8080/"
        },
        "id": "p2eafl3IhDkH",
        "outputId": "2da3eed7-0338-4aca-f773-bdb036268766"
      },
      "outputs": [
        {
          "name": "stdout",
          "output_type": "stream",
          "text": [
            "\n",
            "First ten rows of the generated data:\n",
            "        Date       Make      Model  Color  Year     Price  Mileage  \\\n",
            "0 2024-01-01   Mercedes      Sedan  Green  2022  57952.65   5522.0   \n",
            "1 2024-01-02  Chevrolet  Hatchback    Red  2021  58668.22  94238.0   \n",
            "2 2024-01-03       Audi      Truck  White  2019  69187.87   7482.0   \n",
            "3 2024-01-04     Nissan  Hatchback  Black  2016  40004.44  43846.0   \n",
            "4 2024-01-05   Mercedes  Hatchback    Red  2016  63983.07  52988.0   \n",
            "5 2024-01-06        Kia  Hatchback   Gray  2018  51714.69  98530.0   \n",
            "6 2024-01-07       Ford  Hatchback  White  2022  67603.64  16602.0   \n",
            "7 2024-01-08   Mercedes      Coupe    Red  2022  79432.76  11443.0   \n",
            "8 2024-01-09       Audi      Coupe    Red  2020  32039.06    871.0   \n",
            "9 2024-01-10     Nissan        SUV  Black  2015  79678.92  15557.0   \n",
            "\n",
            "   EngineSize  FuelEfficiency SalesPerson  \n",
            "0         2.0            24.7       Alice  \n",
            "1         1.6            26.2         Bob  \n",
            "2         2.0            28.0       David  \n",
            "3         3.5            24.8       David  \n",
            "4         2.5            24.1       Alice  \n",
            "5         2.5            39.1     Charlie  \n",
            "6         1.6            38.4       David  \n",
            "7         4.0            20.9       David  \n",
            "8         2.5            26.8         Eva  \n",
            "9         1.6            28.1         Bob  \n",
            "\n",
            "DataFrame info:\n",
            "<class 'pandas.core.frame.DataFrame'>\n",
            "RangeIndex: 1000 entries, 0 to 999\n",
            "Data columns (total 10 columns):\n",
            " #   Column          Non-Null Count  Dtype         \n",
            "---  ------          --------------  -----         \n",
            " 0   Date            1000 non-null   datetime64[ns]\n",
            " 1   Make            1000 non-null   object        \n",
            " 2   Model           1000 non-null   object        \n",
            " 3   Color           1000 non-null   object        \n",
            " 4   Year            1000 non-null   int64         \n",
            " 5   Price           1000 non-null   float64       \n",
            " 6   Mileage         1000 non-null   float64       \n",
            " 7   EngineSize      1000 non-null   float64       \n",
            " 8   FuelEfficiency  1000 non-null   float64       \n",
            " 9   SalesPerson     1000 non-null   object        \n",
            "dtypes: datetime64[ns](1), float64(4), int64(1), object(4)\n",
            "memory usage: 78.3+ KB\n"
          ]
        }
      ],
      "source": [
        "# Set a random seed for reproducibility\n",
        "np.random.seed(42)\n",
        "\n",
        "# Generate sample data\n",
        "n_rows = 1000\n",
        "\n",
        "# Generate dates\n",
        "start_date = datetime(2024, 1, 1)\n",
        "dates = [start_date + timedelta(days=i) for i in range(n_rows)]\n",
        "\n",
        "# Define data categories\n",
        "makes = ['Toyota', 'Honda', 'Ford', 'Chevrolet',\n",
        "         'Nissan', 'BMW', 'Mercedes', 'Audi', 'Hyundai', 'Kia']\n",
        "models = ['Sedan', 'SUV', 'Truck', 'Hatchback', 'Coupe', 'Van']\n",
        "colors = ['Red', 'Blue', 'Black', 'White', 'Silver', 'Gray', 'Green']\n",
        "\n",
        "# Create the dataset\n",
        "data = {\n",
        "    'Date': dates,\n",
        "    'Make': np.random.choice(makes, n_rows),\n",
        "    'Model': np.random.choice(models, n_rows),\n",
        "    'Color': np.random.choice(colors, n_rows),\n",
        "    'Year': np.random.randint(2015, 2023, n_rows),\n",
        "    'Price': np.random.uniform(20000, 80000, n_rows).round(2),\n",
        "    'Mileage': np.random.uniform(0, 100000, n_rows).round(0),\n",
        "    'EngineSize': np.random.choice([1.6, 2.0, 2.5, 3.0, 3.5, 4.0], n_rows),\n",
        "    'FuelEfficiency': np.random.uniform(20, 40, n_rows).round(1),\n",
        "    'SalesPerson': np.random.choice(['Alice', 'Bob', 'Charlie', 'David', 'Eva'], n_rows)\n",
        "}\n",
        "\n",
        "# Create DataFrame and sort by date\n",
        "df = pd.DataFrame(data).sort_values('Date')\n",
        "\n",
        "# Display DataFrame\n",
        "print(\"\\nFirst ten rows of the generated data:\")\n",
        "print(df.head(10))\n",
        "\n",
        "print(\"\\nDataFrame info:\")\n",
        "df.info()"
      ]
    },
    {
      "cell_type": "markdown",
      "metadata": {
        "id": "GOdvmFRaiFlo"
      },
      "source": [
        "**Create Data Analysis Agent**"
      ]
    },
    {
      "cell_type": "code",
      "execution_count": 5,
      "metadata": {
        "id": "6fl4gCS4DUJn"
      },
      "outputs": [],
      "source": [
        "# Load variables from .env file\n",
        "load_dotenv()\n",
        "# Load the API key from the .env file\n",
        "api_key = os.getenv(\"API_KEY\")"
      ]
    },
    {
      "cell_type": "code",
      "execution_count": 14,
      "metadata": {
        "colab": {
          "base_uri": "https://localhost:8080/"
        },
        "id": "o5itvSCSh6Wg",
        "outputId": "cc042f76-60d6-4af2-e514-541ed93ab32b"
      },
      "outputs": [
        {
          "name": "stdout",
          "output_type": "stream",
          "text": [
            "Data Analysis Agent is ready. You can now ask questions about the data.\n"
          ]
        }
      ],
      "source": [
        "# Initialize the Groq model with LangChain\n",
        "llm = ChatGroq(\n",
        "    model_name=\"llama3-70b-8192\",\n",
        "    api_key= api_key\n",
        ")\n",
        "\n",
        "# Create the Pandas DataFrame agent\n",
        "agent = create_pandas_dataframe_agent(\n",
        "    llm = llm,\n",
        "    df= df,\n",
        "    verbose= True,\n",
        "    allow_dangerous_code= True,\n",
        "    agent_type= AgentType.ZERO_SHOT_REACT_DESCRIPTION,\n",
        "    max_iterations= 5,\n",
        ")\n",
        "\n",
        "print(\"Data Analysis Agent is ready. You can now ask questions about the data.\")"
      ]
    },
    {
      "cell_type": "markdown",
      "metadata": {
        "id": "EnwytFwNigo4"
      },
      "source": [
        "**Define Question-Asking Function**"
      ]
    },
    {
      "cell_type": "code",
      "execution_count": null,
      "metadata": {
        "id": "k_2hVRVaieZ3"
      },
      "outputs": [],
      "source": [
        "def ask_agent(question):\n",
        "    \"\"\"Function to ask questions to the agent and display the response\"\"\"\n",
        "\n",
        "    response = agent.invoke({\n",
        "        \"input\": question,\n",
        "        \"agent_scratchpad\": f\"Human: {question}\\nAI: To answer this question, I need to use Python to analyze the dataframe. I'll use the python_repl_ast tool.\\n\\nAction: python_repl_ast\\nAction Input: \",\n",
        "    })\n",
        "\n",
        "    print(\"---\")\n",
        "    print(f\"Question: {question}\")\n",
        "    print(f\"Answer: {response['output']}\")\n",
        "    print(\"---\")\n"
      ]
    },
    {
      "cell_type": "code",
      "execution_count": 19,
      "metadata": {
        "colab": {
          "base_uri": "https://localhost:8080/"
        },
        "id": "TZIhfRM6iq20",
        "outputId": "9e83210c-5e4b-4069-a2d1-d202c96ba938"
      },
      "outputs": [
        {
          "name": "stdout",
          "output_type": "stream",
          "text": [
            "\n",
            "\n",
            "\u001b[1m> Entering new AgentExecutor chain...\u001b[0m\n",
            "\u001b[32;1m\u001b[1;3mThought: To get the column names of the dataframe, I can use the `columns` attribute.\n",
            "\n",
            "Action: python_repl_ast\n",
            "Action Input: df.columns\u001b[0m\u001b[36;1m\u001b[1;3mIndex(['Date', 'Make', 'Model', 'Color', 'Year', 'Price', 'Mileage',\n",
            "       'EngineSize', 'FuelEfficiency', 'SalesPerson'],\n",
            "      dtype='object')\u001b[0m\u001b[32;1m\u001b[1;3mI now know the final answer.\n",
            "Final Answer: The column names in this dataset are: 'Date', 'Make', 'Model', 'Color', 'Year', 'Price', 'Mileage', 'EngineSize', 'FuelEfficiency', 'SalesPerson'.\u001b[0m\n",
            "\n",
            "\u001b[1m> Finished chain.\u001b[0m\n",
            "---\n",
            "Question: What are the column names in this dataset?\n",
            "Answer: The column names in this dataset are: 'Date', 'Make', 'Model', 'Color', 'Year', 'Price', 'Mileage', 'EngineSize', 'FuelEfficiency', 'SalesPerson'.\n",
            "---\n",
            "\n",
            "\n",
            "\u001b[1m> Entering new AgentExecutor chain...\u001b[0m\n",
            "\u001b[32;1m\u001b[1;3mThought: To find the number of rows in the dataset, I need to use the shape attribute of the pandas dataframe.\n",
            "\n",
            "Action: python_repl_ast\n",
            "Action Input: len(df)\u001b[0m\u001b[36;1m\u001b[1;3m1000\u001b[0m\u001b[32;1m\u001b[1;3mBut I think I made a mistake. The `len()` function returns the number of rows, but it's not the best way to get the shape of a pandas dataframe.\n",
            "\n",
            "Action: python_repl_ast\n",
            "Action Input: df.shape\u001b[0m\u001b[36;1m\u001b[1;3m(1000, 10)\u001b[0m\u001b[32;1m\u001b[1;3mI now know the final answer\n",
            "Final Answer: There are 1000 rows in this dataset.\u001b[0m\n",
            "\n",
            "\u001b[1m> Finished chain.\u001b[0m\n",
            "---\n",
            "Question: How many rows are in this dataset?\n",
            "Answer: There are 1000 rows in this dataset.\n",
            "---\n",
            "\n",
            "\n",
            "\u001b[1m> Entering new AgentExecutor chain...\u001b[0m\n",
            "\u001b[32;1m\u001b[1;3mThought: To find the most expensive model of Nissan, I need to filter the dataframe to only include rows where the Make is Nissan, and then find the maximum Price.\n",
            "\n",
            "Action: python_repl_ast\n",
            "Action Input: df[df['Make'] == 'Nissan']\n",
            "\u001b[0m\u001b[36;1m\u001b[1;3m          Date    Make      Model   Color  Year     Price  Mileage  \\\n",
            "3   2024-01-04  Nissan  Hatchback   Black  2016  40004.44  43846.0   \n",
            "9   2024-01-10  Nissan        SUV   Black  2015  79678.92  15557.0   \n",
            "15  2024-01-16  Nissan      Truck    Blue  2017  24141.77  36560.0   \n",
            "20  2024-01-21  Nissan      Truck    Gray  2015  73065.46  89824.0   \n",
            "32  2024-02-02  Nissan      Truck   Black  2019  61865.38  30362.0   \n",
            "..         ...     ...        ...     ...   ...       ...      ...   \n",
            "941 2026-07-30  Nissan        Van    Blue  2022  68615.52   5918.0   \n",
            "962 2026-08-20  Nissan      Coupe    Gray  2021  24713.47  22460.0   \n",
            "969 2026-08-27  Nissan        SUV    Gray  2018  74940.33  33056.0   \n",
            "979 2026-09-06  Nissan  Hatchback  Silver  2020  73075.00  69402.0   \n",
            "987 2026-09-14  Nissan        Van  Silver  2021  66554.69  10468.0   \n",
            "\n",
            "     EngineSize  FuelEfficiency SalesPerson  \n",
            "3           3.5            24.8       David  \n",
            "9           1.6            28.1         Bob  \n",
            "15          3.0            30.9         Bob  \n",
            "20          3.5            22.7       David  \n",
            "32          2.0            33.5       Alice  \n",
            "..          ...             ...         ...  \n",
            "941         3.0            34.0         Eva  \n",
            "962         3.5            39.9     Charlie  \n",
            "969         1.6            21.2         Bob  \n",
            "979         3.5            37.7       David  \n",
            "987         4.0            22.2       Alice  \n",
            "\n",
            "[107 rows x 10 columns]\u001b[0m\u001b[32;1m\u001b[1;3mThought: Now that I have filtered the dataframe to only include rows where the Make is Nissan, I need to find the maximum Price.\n",
            "\n",
            "Action: python_repl_ast\n",
            "Action Input: df[df['Make'] == 'Nissan']['Price'].max()\n",
            "\u001b[0m\u001b[36;1m\u001b[1;3m79678.92\u001b[0m\u001b[32;1m\u001b[1;3mI now know the final answer\n",
            "Final Answer: The most expensive model of Nissan has a price of 79678.92.\u001b[0m\n",
            "\n",
            "\u001b[1m> Finished chain.\u001b[0m\n",
            "---\n",
            "Question: Find the most expensive model of Nissan\n",
            "Answer: The most expensive model of Nissan has a price of 79678.92.\n",
            "---\n"
          ]
        }
      ],
      "source": [
        "ask_agent(\"What are the column names in this dataset?\")\n",
        "ask_agent(\"How many rows are in this dataset?\")\n",
        "ask_agent(\"Find the most expensive model of Nissan\")"
      ]
    }
  ],
  "metadata": {
    "colab": {
      "provenance": []
    },
    "kernelspec": {
      "display_name": "Python 3",
      "name": "python3"
    },
    "language_info": {
      "name": "python"
    }
  },
  "nbformat": 4,
  "nbformat_minor": 0
}
